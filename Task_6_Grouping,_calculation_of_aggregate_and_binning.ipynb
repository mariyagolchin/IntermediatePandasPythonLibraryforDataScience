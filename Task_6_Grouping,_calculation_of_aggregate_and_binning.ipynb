{
  "nbformat": 4,
  "nbformat_minor": 0,
  "metadata": {
    "colab": {
      "name": "Task 6: Grouping, calculation of aggregate and binning.ipynb",
      "provenance": [],
      "authorship_tag": "ABX9TyMNQ6D8O7Qq1I8HAnQpK/P2",
      "include_colab_link": true
    },
    "kernelspec": {
      "name": "python3",
      "display_name": "Python 3"
    }
  },
  "cells": [
    {
      "cell_type": "markdown",
      "metadata": {
        "id": "view-in-github",
        "colab_type": "text"
      },
      "source": [
        "<a href=\"https://colab.research.google.com/github/mariyagolchin/IntermediatePandasPythonLibraryforDataScience/blob/main/Task_6_Grouping%2C_calculation_of_aggregate_and_binning.ipynb\" target=\"_parent\"><img src=\"https://colab.research.google.com/assets/colab-badge.svg\" alt=\"Open In Colab\"/></a>"
      ]
    },
    {
      "cell_type": "markdown",
      "metadata": {
        "id": "4OrH5OOXnVxW"
      },
      "source": [
        "# Groupping data\n",
        "\n",
        "# Binning data"
      ]
    },
    {
      "cell_type": "code",
      "metadata": {
        "colab": {
          "base_uri": "https://localhost:8080/",
          "height": 309
        },
        "id": "QBuxsQKdkcLA",
        "outputId": "fa6748c0-8c86-430f-ea8e-7dd375fe7fd7"
      },
      "source": [
        "import numpy as np\n",
        "import pandas as pd\n",
        "\n",
        "df=pd.read_csv(\"https://raw.githubusercontent.com/VinitaSilaparasetty/Coursera-Intermediate-Pandas/master/What_does_aid_to_Africa_finance_1.csv \")\n",
        "df.head()"
      ],
      "execution_count": 1,
      "outputs": [
        {
          "output_type": "execute_result",
          "data": {
            "text/html": [
              "<div>\n",
              "<style scoped>\n",
              "    .dataframe tbody tr th:only-of-type {\n",
              "        vertical-align: middle;\n",
              "    }\n",
              "\n",
              "    .dataframe tbody tr th {\n",
              "        vertical-align: top;\n",
              "    }\n",
              "\n",
              "    .dataframe thead th {\n",
              "        text-align: right;\n",
              "    }\n",
              "</style>\n",
              "<table border=\"1\" class=\"dataframe\">\n",
              "  <thead>\n",
              "    <tr style=\"text-align: right;\">\n",
              "      <th></th>\n",
              "      <th>countryc</th>\n",
              "      <th>year</th>\n",
              "      <th>agrgdp</th>\n",
              "      <th>popn</th>\n",
              "      <th>infmort</th>\n",
              "      <th>schprim</th>\n",
              "      <th>schsec</th>\n",
              "      <th>grtdsbp</th>\n",
              "      <th>grlndsbp</th>\n",
              "      <th>aiddsbp</th>\n",
              "      <th>totexpp</th>\n",
              "      <th>agexpp</th>\n",
              "      <th>enexpp</th>\n",
              "      <th>indexpp</th>\n",
              "      <th>tacexpp</th>\n",
              "      <th>eduexpp</th>\n",
              "      <th>hthexpp</th>\n",
              "      <th>prirepp</th>\n",
              "      <th>curexpp</th>\n",
              "      <th>capexpp</th>\n",
              "      <th>gdnpp</th>\n",
              "      <th>d0</th>\n",
              "      <th>cnlnagp</th>\n",
              "      <th>cnlnenp</th>\n",
              "      <th>cnlninp</th>\n",
              "      <th>cnlntacp</th>\n",
              "      <th>cnlnedup</th>\n",
              "      <th>cnlnhthp</th>\n",
              "      <th>cnlnothp</th>\n",
              "      <th>dgrtdsbp</th>\n",
              "      <th>dgrlndsbp</th>\n",
              "      <th>daiddsbp</th>\n",
              "      <th>dtotexpp</th>\n",
              "      <th>dagexpp</th>\n",
              "      <th>denexpp</th>\n",
              "      <th>dindexpp</th>\n",
              "      <th>dtacexpp</th>\n",
              "      <th>deduexpp</th>\n",
              "      <th>dhthexpp</th>\n",
              "      <th>dothexpp</th>\n",
              "      <th>dcurexpp</th>\n",
              "      <th>dcapexpp</th>\n",
              "      <th>dprirepp</th>\n",
              "      <th>dcnlnagp</th>\n",
              "      <th>dcnlnenp</th>\n",
              "      <th>dcnlninp</th>\n",
              "      <th>dcnlntacp</th>\n",
              "      <th>dcnlnedup</th>\n",
              "      <th>dcnlnhthp</th>\n",
              "      <th>dcnlnothp</th>\n",
              "    </tr>\n",
              "  </thead>\n",
              "  <tbody>\n",
              "    <tr>\n",
              "      <th>0</th>\n",
              "      <td>Burkina Faso</td>\n",
              "      <td>1970</td>\n",
              "      <td>35.44188862</td>\n",
              "      <td>5633000.0</td>\n",
              "      <td>141.3999939</td>\n",
              "      <td>13</td>\n",
              "      <td>1</td>\n",
              "      <td>13.3182802200317</td>\n",
              "      <td>1.02303504943848</td>\n",
              "      <td>14.3413200378418</td>\n",
              "      <td>1.79769313486232</td>\n",
              "      <td>1.79769313486232</td>\n",
              "      <td>1.79769313486232</td>\n",
              "      <td>1.79769313486232e+308</td>\n",
              "      <td>1.79769313486232e+308</td>\n",
              "      <td>1.79769313486232e+308</td>\n",
              "      <td>1.79769313486232e+308</td>\n",
              "      <td>0.502102971076965</td>\n",
              "      <td>1.79769313486232e+308</td>\n",
              "      <td>1.79769313486232e+308</td>\n",
              "      <td>246.414001464844</td>\n",
              "      <td>10</td>\n",
              "      <td>0.0470721982419491</td>\n",
              "      <td>0</td>\n",
              "      <td>0.320718288421631</td>\n",
              "      <td>0.00690389983355999</td>\n",
              "      <td>0</td>\n",
              "      <td>0</td>\n",
              "      <td>0.289336889982224</td>\n",
              "      <td>1.79769313486232e+308</td>\n",
              "      <td>1.79769313486232e+308</td>\n",
              "      <td>1.79769313486232e+308</td>\n",
              "      <td>1.79769313486232e+308</td>\n",
              "      <td>1.79769313486232e+308</td>\n",
              "      <td>1.79769313486232e+308</td>\n",
              "      <td>1.79769313486232e+308</td>\n",
              "      <td>1.79769313486232e+308</td>\n",
              "      <td>1.79769313486232e+308</td>\n",
              "      <td>1.79769313486232e+308</td>\n",
              "      <td>1.79769313486232e+308</td>\n",
              "      <td>1.79769313486232e+308</td>\n",
              "      <td>1.79769313486232e+308</td>\n",
              "      <td>1.79769313486232e+308</td>\n",
              "      <td>1.79769313486232e+308</td>\n",
              "      <td>1.79769313486232e+308</td>\n",
              "      <td>1.79769313486232e+308</td>\n",
              "      <td>1.79769313486232e+308</td>\n",
              "      <td>1.79769313486232e+308</td>\n",
              "      <td>1.79769313486232e+308</td>\n",
              "      <td>1.79769313486232e+308</td>\n",
              "    </tr>\n",
              "    <tr>\n",
              "      <th>1</th>\n",
              "      <td>Burkina Faso</td>\n",
              "      <td>1970</td>\n",
              "      <td>35.44188862</td>\n",
              "      <td>5633000.0</td>\n",
              "      <td>141.3999939</td>\n",
              "      <td>13</td>\n",
              "      <td>1</td>\n",
              "      <td>13.3182802200317</td>\n",
              "      <td>1.02303504943848</td>\n",
              "      <td>14.3413200378418</td>\n",
              "      <td>1.79769313486232e+308</td>\n",
              "      <td>1.79769313486232e+308</td>\n",
              "      <td>1.79769313486232e+308</td>\n",
              "      <td>1.79769313486232e+308</td>\n",
              "      <td>1.79769313486232e+308</td>\n",
              "      <td>1.79769313486232e+308</td>\n",
              "      <td>1.79769313486232e+308</td>\n",
              "      <td>0.502102971076965</td>\n",
              "      <td>1.79769313486232e+308</td>\n",
              "      <td>1.79769313486232e+308</td>\n",
              "      <td>246.414001464844</td>\n",
              "      <td>10</td>\n",
              "      <td>0.0470721982419491</td>\n",
              "      <td>0</td>\n",
              "      <td>0.320718288421631</td>\n",
              "      <td>0.00690389983355999</td>\n",
              "      <td>0</td>\n",
              "      <td>0</td>\n",
              "      <td>0.289336889982224</td>\n",
              "      <td>1.79769313486232e+308</td>\n",
              "      <td>1.79769313486232e+308</td>\n",
              "      <td>1.79769313486232e+308</td>\n",
              "      <td>1.79769313486232e+308</td>\n",
              "      <td>1.79769313486232e+308</td>\n",
              "      <td>1.79769313486232e+308</td>\n",
              "      <td>1.79769313486232e+308</td>\n",
              "      <td>1.79769313486232e+308</td>\n",
              "      <td>1.79769313486232e+308</td>\n",
              "      <td>1.79769313486232e+308</td>\n",
              "      <td>1.79769313486232e+308</td>\n",
              "      <td>1.79769313486232e+308</td>\n",
              "      <td>1.79769313486232e+308</td>\n",
              "      <td>1.79769313486232e+308</td>\n",
              "      <td>1.79769313486232e+308</td>\n",
              "      <td>1.79769313486232e+308</td>\n",
              "      <td>1.79769313486232e+308</td>\n",
              "      <td>1.79769313486232e+308</td>\n",
              "      <td>1.79769313486232e+308</td>\n",
              "      <td>1.79769313486232e+308</td>\n",
              "      <td>1.79769313486232e+308</td>\n",
              "    </tr>\n",
              "    <tr>\n",
              "      <th>2</th>\n",
              "      <td>Burkina Faso</td>\n",
              "      <td>1971</td>\n",
              "      <td>36.16739069</td>\n",
              "      <td>5740700.0</td>\n",
              "      <td>139.1999969</td>\n",
              "      <td>13.6</td>\n",
              "      <td>1.2</td>\n",
              "      <td>16.7043991088867</td>\n",
              "      <td>0.655763506889343</td>\n",
              "      <td>17.3601703643799</td>\n",
              "      <td>1.79769313486232e+308</td>\n",
              "      <td>1.79769313486232e+308</td>\n",
              "      <td>1.79769313486232e+308</td>\n",
              "      <td>1.79769313486232e+308</td>\n",
              "      <td>1.79769313486232e+308</td>\n",
              "      <td>1.79769313486232e+308</td>\n",
              "      <td>1.79769313486232e+308</td>\n",
              "      <td>0.46840250492096</td>\n",
              "      <td>1.79769313486232e+308</td>\n",
              "      <td>1.79769313486232e+308</td>\n",
              "      <td>237.336502075195</td>\n",
              "      <td>11</td>\n",
              "      <td>0.0304461997002363</td>\n",
              "      <td>0</td>\n",
              "      <td>0.317928194999695</td>\n",
              "      <td>0.00292750005610287</td>\n",
              "      <td>0</td>\n",
              "      <td>0</td>\n",
              "      <td>0.124712198972702</td>\n",
              "      <td>1.79769313486232e+308</td>\n",
              "      <td>1.79769313486232e+308</td>\n",
              "      <td>1.79769313486232e+308</td>\n",
              "      <td>1.79769313486232e+308</td>\n",
              "      <td>1.79769313486232e+308</td>\n",
              "      <td>1.79769313486232e+308</td>\n",
              "      <td>1.79769313486232e+308</td>\n",
              "      <td>1.79769313486232e+308</td>\n",
              "      <td>1.79769313486232e+308</td>\n",
              "      <td>1.79769313486232e+308</td>\n",
              "      <td>1.79769313486232e+308</td>\n",
              "      <td>1.79769313486232e+308</td>\n",
              "      <td>1.79769313486232e+308</td>\n",
              "      <td>1.79769313486232e+308</td>\n",
              "      <td>1.79769313486232e+308</td>\n",
              "      <td>1.79769313486232e+308</td>\n",
              "      <td>1.79769313486232e+308</td>\n",
              "      <td>1.79769313486232e+308</td>\n",
              "      <td>1.79769313486232e+308</td>\n",
              "      <td>1.79769313486232e+308</td>\n",
              "      <td>1.79769313486232e+308</td>\n",
              "    </tr>\n",
              "    <tr>\n",
              "      <th>3</th>\n",
              "      <td>Burkina Faso</td>\n",
              "      <td>1972</td>\n",
              "      <td>37.51058767</td>\n",
              "      <td>5848380.0</td>\n",
              "      <td>137</td>\n",
              "      <td>14.2</td>\n",
              "      <td>1.4</td>\n",
              "      <td>20.9176502227783</td>\n",
              "      <td>2.97720909118652</td>\n",
              "      <td>23.8948593139648</td>\n",
              "      <td>1.79769313486232e+308</td>\n",
              "      <td>1.79769313486232e+308</td>\n",
              "      <td>1.79769313486232e+308</td>\n",
              "      <td>1.79769313486232e+308</td>\n",
              "      <td>1.79769313486232e+308</td>\n",
              "      <td>1.79769313486232e+308</td>\n",
              "      <td>1.79769313486232e+308</td>\n",
              "      <td>4.92893505096436</td>\n",
              "      <td>1.79769313486232e+308</td>\n",
              "      <td>1.79769313486232e+308</td>\n",
              "      <td>270.989410400391</td>\n",
              "      <td>13</td>\n",
              "      <td>0.533692181110382</td>\n",
              "      <td>0</td>\n",
              "      <td>0.185248598456383</td>\n",
              "      <td>0.567323684692383</td>\n",
              "      <td>0</td>\n",
              "      <td>0</td>\n",
              "      <td>0.616943776607513</td>\n",
              "      <td>1.79769313486232e+308</td>\n",
              "      <td>1.79769313486232e+308</td>\n",
              "      <td>1.79769313486232e+308</td>\n",
              "      <td>1.79769313486232e+308</td>\n",
              "      <td>1.79769313486232e+308</td>\n",
              "      <td>1.79769313486232e+308</td>\n",
              "      <td>1.79769313486232e+308</td>\n",
              "      <td>1.79769313486232e+308</td>\n",
              "      <td>1.79769313486232e+308</td>\n",
              "      <td>1.79769313486232e+308</td>\n",
              "      <td>1.79769313486232e+308</td>\n",
              "      <td>1.79769313486232e+308</td>\n",
              "      <td>1.79769313486232e+308</td>\n",
              "      <td>1.79769313486232e+308</td>\n",
              "      <td>1.79769313486232e+308</td>\n",
              "      <td>1.79769313486232e+308</td>\n",
              "      <td>1.79769313486232e+308</td>\n",
              "      <td>1.79769313486232e+308</td>\n",
              "      <td>1.79769313486232e+308</td>\n",
              "      <td>1.79769313486232e+308</td>\n",
              "      <td>1.79769313486232e+308</td>\n",
              "    </tr>\n",
              "    <tr>\n",
              "      <th>4</th>\n",
              "      <td>Burkina Faso</td>\n",
              "      <td>1973</td>\n",
              "      <td>34.83428571</td>\n",
              "      <td>5958700.0</td>\n",
              "      <td>135</td>\n",
              "      <td>14.8</td>\n",
              "      <td>1.6</td>\n",
              "      <td>25.9791507720947</td>\n",
              "      <td>3.87817406654358</td>\n",
              "      <td>29.8573207855225</td>\n",
              "      <td>27.8204040527344</td>\n",
              "      <td>2.00138401985168</td>\n",
              "      <td>0.0368071012198925</td>\n",
              "      <td>0.0552106015384197</td>\n",
              "      <td>1.25834095478058</td>\n",
              "      <td>5.6015739440918</td>\n",
              "      <td>2.22452688217163</td>\n",
              "      <td>0.666000723838806</td>\n",
              "      <td>23.5910205841064</td>\n",
              "      <td>3.56338310241699</td>\n",
              "      <td>291.868499755859</td>\n",
              "      <td>16</td>\n",
              "      <td>0.823791682720184</td>\n",
              "      <td>0.0578907988965511</td>\n",
              "      <td>2.71574592590332</td>\n",
              "      <td>0.184943303465843</td>\n",
              "      <td>0</td>\n",
              "      <td>0</td>\n",
              "      <td>0.500525176525116</td>\n",
              "      <td>5.06150197982788</td>\n",
              "      <td>0.900964975357056</td>\n",
              "      <td>5.96246719360352</td>\n",
              "      <td>1.79769313486232e+308</td>\n",
              "      <td>1.79769313486232e+308</td>\n",
              "      <td>1.79769313486232e+308</td>\n",
              "      <td>1.79769313486232e+308</td>\n",
              "      <td>1.79769313486232e+308</td>\n",
              "      <td>1.79769313486232e+308</td>\n",
              "      <td>1.79769313486232e+308</td>\n",
              "      <td>1.79769313486232e+308</td>\n",
              "      <td>1.79769313486232e+308</td>\n",
              "      <td>1.79769313486232e+308</td>\n",
              "      <td>-4.26292991638184</td>\n",
              "      <td>0.290098994970322</td>\n",
              "      <td>0.0578910000622272</td>\n",
              "      <td>2.53049802780151</td>\n",
              "      <td>-0.38238000869751</td>\n",
              "      <td>0</td>\n",
              "      <td>0</td>\n",
              "      <td>-0.11642000079155</td>\n",
              "    </tr>\n",
              "  </tbody>\n",
              "</table>\n",
              "</div>"
            ],
            "text/plain": [
              "       countryc  year  ...              dcnlnhthp              dcnlnothp\n",
              "0  Burkina Faso  1970  ...  1.79769313486232e+308  1.79769313486232e+308\n",
              "1  Burkina Faso  1970  ...  1.79769313486232e+308  1.79769313486232e+308\n",
              "2  Burkina Faso  1971  ...  1.79769313486232e+308  1.79769313486232e+308\n",
              "3  Burkina Faso  1972  ...  1.79769313486232e+308  1.79769313486232e+308\n",
              "4  Burkina Faso  1973  ...                      0      -0.11642000079155\n",
              "\n",
              "[5 rows x 50 columns]"
            ]
          },
          "metadata": {
            "tags": []
          },
          "execution_count": 1
        }
      ]
    },
    {
      "cell_type": "code",
      "metadata": {
        "colab": {
          "base_uri": "https://localhost:8080/"
        },
        "id": "ncq-Yq1Bl3Md",
        "outputId": "6ed36eb9-a83c-4c6e-9331-5b75ac058fd0"
      },
      "source": [
        "df1=df.groupby(['countryc','year']).groups\n",
        "df1"
      ],
      "execution_count": 6,
      "outputs": [
        {
          "output_type": "execute_result",
          "data": {
            "text/plain": [
              "{('Botswana', 1970): [28], ('Botswana', 1971): [29], ('Botswana', 1972): [30], ('Botswana', 1973): [31], ('Botswana', 1974): [32], ('Botswana', 1975): [33], ('Botswana', 1976): [34], ('Botswana', 1977): [35], ('Botswana', 1978): [36], ('Botswana', 1979): [37], ('Botswana', 1980): [38], ('Botswana', 1981): [39], ('Botswana', 1982): [40], ('Botswana', 1983): [41], ('Botswana', 1984): [42], ('Botswana', 1985): [43], ('Botswana', 1986): [44], ('Botswana', 1987): [45], ('Botswana', 1988): [46], ('Botswana', 1989): [47], ('Botswana', 1990): [48], ('Botswana', 1991): [49], ('Botswana', 1992): [50], ('Botswana', 1993): [51], ('Botswana', 1994): [52], ('Botswana', 1995): [53], ('Burkina Faso', 1970): [0, 1], ('Burkina Faso', 1971): [2], ('Burkina Faso', 1972): [3], ('Burkina Faso', 1973): [4, 5], ('Burkina Faso', 1974): [6], ('Burkina Faso', 1975): [7], ('Burkina Faso', 1976): [8], ('Burkina Faso', 1977): [9], ('Burkina Faso', 1978): [10], ('Burkina Faso', 1979): [11], ('Burkina Faso', 1980): [12], ('Burkina Faso', 1981): [13], ('Burkina Faso', 1982): [14], ('Burkina Faso', 1983): [15], ('Burkina Faso', 1984): [16], ('Burkina Faso', 1985): [17], ('Burkina Faso', 1986): [18], ('Burkina Faso', 1987): [19], ('Burkina Faso', 1988): [20], ('Burkina Faso', 1989): [21], ('Burkina Faso', 1990): [22], ('Burkina Faso', 1991): [23], ('Burkina Faso', 1992): [24], ('Burkina Faso', 1993): [25], ('Burkina Faso', 1994): [26], ('Burkina Faso', 1995): [27], ('Cameroon', 1970): [54], ('Cameroon', 1971): [55], ('Cameroon', 1972): [56], ('Cameroon', 1973): [57], ('Cameroon', 1974): [58], ('Cameroon', 1975): [59], ('Cameroon', 1976): [60], ('Cameroon', 1977): [61], ('Cameroon', 1978): [62], ('Cameroon', 1979): [63], ('Cameroon', 1980): [64], ('Cameroon', 1981): [65], ('Cameroon', 1982): [66], ('Cameroon', 1983): [67], ('Cameroon', 1984): [68], ('Cameroon', 1985): [69], ('Cameroon', 1986): [70], ('Cameroon', 1987): [71], ('Cameroon', 1988): [72], ('Cameroon', 1989): [73], ('Cameroon', 1990): [74], ('Cameroon', 1991): [75], ('Cameroon', 1992): [76], ('Cameroon', 1993): [77], ('Cameroon', 1994): [78], ('Cameroon', 1995): [79], ('Ethiopia', 1970): [80], ('Ethiopia', 1971): [81], ('Ethiopia', 1972): [82], ('Ethiopia', 1973): [83], ('Ethiopia', 1974): [84], ('Ethiopia', 1975): [85], ('Ethiopia', 1976): [86], ('Ethiopia', 1977): [87], ('Ethiopia', 1978): [88], ('Ethiopia', 1979): [89], ('Ethiopia', 1980): [90], ('Ethiopia', 1981): [91], ('Ethiopia', 1982): [92], ('Ethiopia', 1983): [93], ('Ethiopia', 1984): [94], ('Ethiopia', 1985): [95], ('Ethiopia', 1986): [96], ('Ethiopia', 1987): [97], ('Ethiopia', 1988): [98], ('Ethiopia', 1989): [99], ('Ethiopia', 1990): [100], ('Ethiopia', 1991): [101], ...}"
            ]
          },
          "metadata": {
            "tags": []
          },
          "execution_count": 5
        },
        {
          "output_type": "execute_result",
          "data": {
            "text/plain": [
              "{('Botswana', 1970): [28], ('Botswana', 1971): [29], ('Botswana', 1972): [30], ('Botswana', 1973): [31], ('Botswana', 1974): [32], ('Botswana', 1975): [33], ('Botswana', 1976): [34], ('Botswana', 1977): [35], ('Botswana', 1978): [36], ('Botswana', 1979): [37], ('Botswana', 1980): [38], ('Botswana', 1981): [39], ('Botswana', 1982): [40], ('Botswana', 1983): [41], ('Botswana', 1984): [42], ('Botswana', 1985): [43], ('Botswana', 1986): [44], ('Botswana', 1987): [45], ('Botswana', 1988): [46], ('Botswana', 1989): [47], ('Botswana', 1990): [48], ('Botswana', 1991): [49], ('Botswana', 1992): [50], ('Botswana', 1993): [51], ('Botswana', 1994): [52], ('Botswana', 1995): [53], ('Burkina Faso', 1970): [0, 1], ('Burkina Faso', 1971): [2], ('Burkina Faso', 1972): [3], ('Burkina Faso', 1973): [4, 5], ('Burkina Faso', 1974): [6], ('Burkina Faso', 1975): [7], ('Burkina Faso', 1976): [8], ('Burkina Faso', 1977): [9], ('Burkina Faso', 1978): [10], ('Burkina Faso', 1979): [11], ('Burkina Faso', 1980): [12], ('Burkina Faso', 1981): [13], ('Burkina Faso', 1982): [14], ('Burkina Faso', 1983): [15], ('Burkina Faso', 1984): [16], ('Burkina Faso', 1985): [17], ('Burkina Faso', 1986): [18], ('Burkina Faso', 1987): [19], ('Burkina Faso', 1988): [20], ('Burkina Faso', 1989): [21], ('Burkina Faso', 1990): [22], ('Burkina Faso', 1991): [23], ('Burkina Faso', 1992): [24], ('Burkina Faso', 1993): [25], ('Burkina Faso', 1994): [26], ('Burkina Faso', 1995): [27], ('Cameroon', 1970): [54], ('Cameroon', 1971): [55], ('Cameroon', 1972): [56], ('Cameroon', 1973): [57], ('Cameroon', 1974): [58], ('Cameroon', 1975): [59], ('Cameroon', 1976): [60], ('Cameroon', 1977): [61], ('Cameroon', 1978): [62], ('Cameroon', 1979): [63], ('Cameroon', 1980): [64], ('Cameroon', 1981): [65], ('Cameroon', 1982): [66], ('Cameroon', 1983): [67], ('Cameroon', 1984): [68], ('Cameroon', 1985): [69], ('Cameroon', 1986): [70], ('Cameroon', 1987): [71], ('Cameroon', 1988): [72], ('Cameroon', 1989): [73], ('Cameroon', 1990): [74], ('Cameroon', 1991): [75], ('Cameroon', 1992): [76], ('Cameroon', 1993): [77], ('Cameroon', 1994): [78], ('Cameroon', 1995): [79], ('Ethiopia', 1970): [80], ('Ethiopia', 1971): [81], ('Ethiopia', 1972): [82], ('Ethiopia', 1973): [83], ('Ethiopia', 1974): [84], ('Ethiopia', 1975): [85], ('Ethiopia', 1976): [86], ('Ethiopia', 1977): [87], ('Ethiopia', 1978): [88], ('Ethiopia', 1979): [89], ('Ethiopia', 1980): [90], ('Ethiopia', 1981): [91], ('Ethiopia', 1982): [92], ('Ethiopia', 1983): [93], ('Ethiopia', 1984): [94], ('Ethiopia', 1985): [95], ('Ethiopia', 1986): [96], ('Ethiopia', 1987): [97], ('Ethiopia', 1988): [98], ('Ethiopia', 1989): [99], ('Ethiopia', 1990): [100], ('Ethiopia', 1991): [101], ...}"
            ]
          },
          "metadata": {
            "tags": []
          },
          "execution_count": 6
        }
      ]
    },
    {
      "cell_type": "code",
      "metadata": {
        "colab": {
          "base_uri": "https://localhost:8080/",
          "height": 450
        },
        "id": "Z1EkAp67llzw",
        "outputId": "3e726a19-4585-4748-b664-452c9d9a513b"
      },
      "source": [
        "# aggregation of a group\n",
        "df2=df.groupby(['countryc','year']).agg(np.mean)\n",
        "df2"
      ],
      "execution_count": 7,
      "outputs": [
        {
          "output_type": "execute_result",
          "data": {
            "text/html": [
              "<div>\n",
              "<style scoped>\n",
              "    .dataframe tbody tr th:only-of-type {\n",
              "        vertical-align: middle;\n",
              "    }\n",
              "\n",
              "    .dataframe tbody tr th {\n",
              "        vertical-align: top;\n",
              "    }\n",
              "\n",
              "    .dataframe thead th {\n",
              "        text-align: right;\n",
              "    }\n",
              "</style>\n",
              "<table border=\"1\" class=\"dataframe\">\n",
              "  <thead>\n",
              "    <tr style=\"text-align: right;\">\n",
              "      <th></th>\n",
              "      <th></th>\n",
              "      <th>popn</th>\n",
              "    </tr>\n",
              "    <tr>\n",
              "      <th>countryc</th>\n",
              "      <th>year</th>\n",
              "      <th></th>\n",
              "    </tr>\n",
              "  </thead>\n",
              "  <tbody>\n",
              "    <tr>\n",
              "      <th rowspan=\"5\" valign=\"top\">Botswana</th>\n",
              "      <th>1970</th>\n",
              "      <td>647390.0</td>\n",
              "    </tr>\n",
              "    <tr>\n",
              "      <th>1971</th>\n",
              "      <td>647390.0</td>\n",
              "    </tr>\n",
              "    <tr>\n",
              "      <th>1972</th>\n",
              "      <td>672870.0</td>\n",
              "    </tr>\n",
              "    <tr>\n",
              "      <th>1973</th>\n",
              "      <td>699530.0</td>\n",
              "    </tr>\n",
              "    <tr>\n",
              "      <th>1974</th>\n",
              "      <td>727030.0</td>\n",
              "    </tr>\n",
              "    <tr>\n",
              "      <th>...</th>\n",
              "      <th>...</th>\n",
              "      <td>...</td>\n",
              "    </tr>\n",
              "    <tr>\n",
              "      <th rowspan=\"5\" valign=\"top\">Mauritius</th>\n",
              "      <th>1992</th>\n",
              "      <td>1081000.0</td>\n",
              "    </tr>\n",
              "    <tr>\n",
              "      <th>1993</th>\n",
              "      <td>1097000.0</td>\n",
              "    </tr>\n",
              "    <tr>\n",
              "      <th>1994</th>\n",
              "      <td>1113000.0</td>\n",
              "    </tr>\n",
              "    <tr>\n",
              "      <th>1995</th>\n",
              "      <td>1128000.0</td>\n",
              "    </tr>\n",
              "    <tr>\n",
              "      <th>1996</th>\n",
              "      <td>NaN</td>\n",
              "    </tr>\n",
              "  </tbody>\n",
              "</table>\n",
              "<p>299 rows × 1 columns</p>\n",
              "</div>"
            ],
            "text/plain": [
              "                     popn\n",
              "countryc  year           \n",
              "Botswana  1970   647390.0\n",
              "          1971   647390.0\n",
              "          1972   672870.0\n",
              "          1973   699530.0\n",
              "          1974   727030.0\n",
              "...                   ...\n",
              "Mauritius 1992  1081000.0\n",
              "          1993  1097000.0\n",
              "          1994  1113000.0\n",
              "          1995  1128000.0\n",
              "          1996        NaN\n",
              "\n",
              "[299 rows x 1 columns]"
            ]
          },
          "metadata": {
            "tags": []
          },
          "execution_count": 7
        }
      ]
    },
    {
      "cell_type": "code",
      "metadata": {
        "id": "4Qm56GWYnfh3",
        "outputId": "04d3b7b8-2f9a-41e7-b716-f0f99520f542",
        "colab": {
          "base_uri": "https://localhost:8080/"
        }
      },
      "source": [
        "# shape is a tuple that gives dimensions of the array.\n",
        "\n",
        "df.shape "
      ],
      "execution_count": 9,
      "outputs": [
        {
          "output_type": "execute_result",
          "data": {
            "text/plain": [
              "(301, 50)"
            ]
          },
          "metadata": {
            "tags": []
          },
          "execution_count": 9
        }
      ]
    },
    {
      "cell_type": "code",
      "metadata": {
        "id": "kmOP2W0Brv9X",
        "outputId": "4eabaff9-b85d-43d1-aca8-2e91cc311b8a",
        "colab": {
          "base_uri": "https://localhost:8080/"
        }
      },
      "source": [
        "# bin the data according to year\n",
        "df5=df['year'].shape\n",
        "df5"
      ],
      "execution_count": 24,
      "outputs": [
        {
          "output_type": "execute_result",
          "data": {
            "text/plain": [
              "(301,)"
            ]
          },
          "metadata": {
            "tags": []
          },
          "execution_count": 24
        }
      ]
    },
    {
      "cell_type": "code",
      "metadata": {
        "id": "b3-eEpIJsid9",
        "outputId": "5dea55de-f658-4ea5-cda8-23d97abd2f6f",
        "colab": {
          "base_uri": "https://localhost:8080/"
        }
      },
      "source": [
        "df6= pd.qcut(df['year'],q=2).value_counts()\n",
        "df6"
      ],
      "execution_count": 29,
      "outputs": [
        {
          "output_type": "execute_result",
          "data": {
            "text/plain": [
              "(1969.999, 1982.0]    156\n",
              "(1982.0, 1996.0]      145\n",
              "Name: year, dtype: int64"
            ]
          },
          "metadata": {
            "tags": []
          },
          "execution_count": 29
        }
      ]
    },
    {
      "cell_type": "code",
      "metadata": {
        "id": "o0gsVEFTtFCM",
        "outputId": "56931ab4-99e0-4be4-8c6d-6c1005cfe73d",
        "colab": {
          "base_uri": "https://localhost:8080/"
        }
      },
      "source": [
        "df7= pd.qcut(df['year'],q=3).value_counts()\n",
        "df7"
      ],
      "execution_count": 31,
      "outputs": [
        {
          "output_type": "execute_result",
          "data": {
            "text/plain": [
              "(1969.999, 1978.0]    110\n",
              "(1978.0, 1987.0]      101\n",
              "(1987.0, 1996.0]       90\n",
              "Name: year, dtype: int64"
            ]
          },
          "metadata": {
            "tags": []
          },
          "execution_count": 31
        }
      ]
    },
    {
      "cell_type": "code",
      "metadata": {
        "id": "w8yjv12RpJKS",
        "outputId": "ac7d8d3b-e4b9-4ce9-907d-dcce1c65cd4a",
        "colab": {
          "base_uri": "https://localhost:8080/"
        }
      },
      "source": [
        "df3= pd.qcut(df['popn'],q=7).value_counts()\n",
        "df3"
      ],
      "execution_count": 13,
      "outputs": [
        {
          "output_type": "execute_result",
          "data": {
            "text/plain": [
              "(16616600.0, 56404000.0]       43\n",
              "(2652272.857, 7886652.857]     43\n",
              "(463999.999, 953097.143]       43\n",
              "(10664697.143, 16616600.0]     42\n",
              "(7886652.857, 10664697.143]    42\n",
              "(1377285.714, 2652272.857]     42\n",
              "(953097.143, 1377285.714]      42\n",
              "Name: popn, dtype: int64"
            ]
          },
          "metadata": {
            "tags": []
          },
          "execution_count": 13
        }
      ]
    },
    {
      "cell_type": "code",
      "metadata": {
        "id": "dylHFSlZq6H4",
        "outputId": "eb212c49-f15e-469a-a492-9a483357e2ff",
        "colab": {
          "base_uri": "https://localhost:8080/"
        }
      },
      "source": [
        "# So, when you ask for quintiles with qcut,\n",
        "# the bins will be chosen so that you have the same number of records in each bin.\n",
        "# You have 30 records, so should have 6 in each bin (your output should look like this, \n",
        "# although the breakpoints will differ due to the random draw):\n",
        "\n",
        "factors = np.random.randn(30)\n",
        "c=pd.qcut(factors, 5).value_counts()  #==>same value in 5 cell\n",
        "print(c)\n",
        "\n",
        "print('\\n')\n",
        "d=pd.cut(factors, 5).value_counts()\n",
        "print(d)"
      ],
      "execution_count": 21,
      "outputs": [
        {
          "output_type": "stream",
          "text": [
            "(-2.537, -0.891]    6\n",
            "(-0.891, -0.161]    6\n",
            "(-0.161, 0.449]     6\n",
            "(0.449, 1.023]      6\n",
            "(1.023, 2.09]       6\n",
            "dtype: int64\n",
            "\n",
            "\n",
            "(-2.541, -1.611]    2\n",
            "(-1.611, -0.686]    6\n",
            "(-0.686, 0.239]     8\n",
            "(0.239, 1.165]      9\n",
            "(1.165, 2.09]       5\n",
            "dtype: int64\n"
          ],
          "name": "stdout"
        }
      ]
    }
  ]
}